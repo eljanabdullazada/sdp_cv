{
 "cells": [
  {
   "cell_type": "code",
   "execution_count": null,
   "id": "initial_id",
   "metadata": {
    "collapsed": true
   },
   "outputs": [],
   "source": [
    "# Banner Detection Analysis\n",
    "\n",
    "1. **Frame Extraction**:\n",
    "   - Run `extract_frames.py` to process video into frames.\n",
    "\n",
    "2. **Frame Detection**:\n",
    "   - Run `detect_with_chatgpt.py` to perform detection on each extracted frame.\n",
    "\n",
    "3. **Performance Analysis**:\n",
    "   - Load detection results and analyze performance metrics.\n"
   ]
  }
 ],
 "metadata": {
  "kernelspec": {
   "display_name": "Python 3",
   "language": "python",
   "name": "python3"
  },
  "language_info": {
   "codemirror_mode": {
    "name": "ipython",
    "version": 2
   },
   "file_extension": ".py",
   "mimetype": "text/x-python",
   "name": "python",
   "nbconvert_exporter": "python",
   "pygments_lexer": "ipython2",
   "version": "2.7.6"
  }
 },
 "nbformat": 4,
 "nbformat_minor": 5
}
